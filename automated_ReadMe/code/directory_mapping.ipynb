{
 "cells": [
  {
   "cell_type": "code",
   "execution_count": 19,
   "metadata": {},
   "outputs": [
    {
     "name": "stdout",
     "output_type": "stream",
     "text": [
      "..\n",
      "├── code\n",
      "│   └── directory_mapping.ipynb\n",
      "└── test_dirs\n",
      "    ├── dir1\n",
      "    │   ├── dir1_1\n",
      "    │   │   ├── dir1_1_1\n",
      "    │   │   └── file1.txt\n",
      "    │   └── dir1_2\n",
      "    ├── dir2\n",
      "    │   ├── dir2_2\n",
      "    │   ├── file2.txt\n",
      "    │   └── file3.py\n",
      "    └── dir3\n",
      "\n",
      "9 directories, 4 files\n",
      "\n"
     ]
    }
   ],
   "source": [
    "import subprocess\n",
    "#need to install tree use brew install tree -- not sure how to make this smoother right now\n",
    "result = subprocess.run(['tree', '..'], stdout=subprocess.PIPE)\n",
    "print(result.stdout.decode('utf-8'))"
   ]
  },
  {
   "cell_type": "code",
   "execution_count": 20,
   "metadata": {},
   "outputs": [],
   "source": [
    "text_file = open(\"../sample_README.txt\", \"w\")\n",
    "result = subprocess.run(['tree', '..'], stdout=subprocess.PIPE)\n",
    "n = text_file.write(result.stdout.decode('utf-8'))\n",
    "text_file.close()"
   ]
  },
  {
   "cell_type": "code",
   "execution_count": 21,
   "metadata": {},
   "outputs": [
    {
     "data": {
      "text/plain": [
       "('├', '│', '─', '└')"
      ]
     },
     "execution_count": 21,
     "metadata": {},
     "output_type": "execute_result"
    }
   ],
   "source": [
    "'├', '│', '─', '└'"
   ]
  },
  {
   "cell_type": "code",
   "execution_count": null,
   "metadata": {},
   "outputs": [],
   "source": []
  }
 ],
 "metadata": {
  "interpreter": {
   "hash": "ac2eaa0ea0ebeafcc7822e65e46aa9d4f966f30b695406963e145ea4a91cd4fc"
  },
  "kernelspec": {
   "display_name": "Python 3.9.5 64-bit",
   "name": "python3"
  },
  "language_info": {
   "codemirror_mode": {
    "name": "ipython",
    "version": 3
   },
   "file_extension": ".py",
   "mimetype": "text/x-python",
   "name": "python",
   "nbconvert_exporter": "python",
   "pygments_lexer": "ipython3",
   "version": "3.9.5"
  },
  "orig_nbformat": 4
 },
 "nbformat": 4,
 "nbformat_minor": 2
}